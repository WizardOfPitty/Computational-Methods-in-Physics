{
  "nbformat": 4,
  "nbformat_minor": 0,
  "metadata": {
    "colab": {
      "provenance": [],
      "collapsed_sections": [
        "g2dg0sQOUSTn",
        "7wHOGIMiYe9m",
        "ahO13kMmbHHg",
        "cOpgNaxUPCxP"
      ],
      "include_colab_link": true
    },
    "kernelspec": {
      "name": "python3",
      "display_name": "Python 3"
    },
    "language_info": {
      "name": "python"
    }
  },
  "cells": [
    {
      "cell_type": "markdown",
      "metadata": {
        "id": "view-in-github",
        "colab_type": "text"
      },
      "source": [
        "<a href=\"https://colab.research.google.com/github/WizardOfPitty/Computational-Methods-in-Physics/blob/main/Machine_Learning_Workflow/0_1_machine_learning_workflow.ipynb\" target=\"_parent\"><img src=\"https://colab.research.google.com/assets/colab-badge.svg\" alt=\"Open In Colab\"/></a>"
      ]
    },
    {
      "cell_type": "markdown",
      "source": [
        "<a href=\"https://colab.research.google.com/github/GDS-Education-Community-of-Practice/DSECOP/blob/main/Machine_Learning_Workflow/0_1_machine_learning_workflow.ipynb\" target=\"_parent\"><img src=\"https://colab.research.google.com/assets/colab-badge.svg\" alt=\"Open In Colab\"/></a>"
      ],
      "metadata": {
        "id": "VTVT7FXAnKrL"
      }
    },
    {
      "cell_type": "markdown",
      "source": [
        "# An Introduction to the Machine Learning Workflow with Linear Regression\n",
        "\n",
        "Author: Julie Butler\n",
        "\n",
        "Date Created: October 4, 2022\n",
        "\n",
        "Last Modified: November 7, 2022\n",
        "\n",
        "Notebook 1/5 of the DSECOP Module: An Introduction to the Machine Learning Workflow with Linear Regression.  See the entire module [here]()."
      ],
      "metadata": {
        "id": "VMPKBKZTTxXC"
      }
    },
    {
      "cell_type": "markdown",
      "source": [
        "## What is Machine Learning?\n",
        "\n",
        "Machine learning is the field that occurs when artificial intelligence is applied to data science; it is using computer algorithms that learn to draw knowledge from data sets.  To use another definition, machine learning is a set of algorithms which learn to perform a task by considering examples of what is to be done, but without being given explicit instructions.  Machine learning algortihms learn what to do by finding patterns in the data that are correlated to the problem to be solved.\n",
        "\n",
        "Machine learning algorithms can be split up in two ways, either based on the type of problem or the type of data set.  The first way to classify machine learning algorithms is based on the problem type.  If we are trying to classify data into a set number of categories, then the machine learning algorithm is performing _classification_.  If instead we are training the algorithm on a data set where the output could be any number then these machine learning algorithms are performing _regression_.\n",
        "\n",
        "The other way to classify machine learning algorithms is by the type of data.  If the data set has both an x and a y component, then a _supervised_ machine learning algorithm will learn how to connnect each y value with its corresponding x value.  We call data sets that have x and y components _labelled_ data.  If instead we were only given the y component of a data set, i.e. _unlabelled_ data, then _unsupervised_ machine learning algorithms attempt to determine patterns without knowing the x components.  There is a third category of machine learning algorithms called _reinforcement_ learning which is popular in fields such as robotics.\n",
        "\n",
        "There are many great resources on machine learning, but a few for further investigation are listed below.\n",
        "* [_Hands-On Machine Learning with Scikit-Learn, Keras, and TensorFlow, 2nd Edition_](https://www.oreilly.com/library/view/hands-on-machine-learning/9781492032632/) by Aurélien Géron\n",
        "* [Scikit-Learn's User Guide](https://scikit-learn.org/stable/user_guide.html)\n",
        "* [Machine Learning Mastery](https://machinelearningmastery.com) by Jason Brownlee\n",
        "* [A.I. Wiki](https://wiki.pathmind.com)"
      ],
      "metadata": {
        "id": "nzWczsm2UJ97"
      }
    },
    {
      "cell_type": "markdown",
      "source": [
        "## Linear Regression: A Simple Machine Learning Algorithm\n",
        "\n",
        "Linear regression is one of the most basic machine learning algorithms, but it still contains all of the basic ingredients present in more complicated machine learning algorithms such as neural networks. Because of this many machine learning courses and books start off with a study of linear regression.\n",
        "\n",
        "Linear regression also has a few other benefits such as analytical expressions for its weights (described in a few cells) and it has a direct link to statistics as many statistics classes also cover linear regression.  Many machine learning packages, such as Scikit-Learn, provide easy to use implementations of linear regression but it is also not difficult to implement linear regression from scratch (the bonus problem of this notebook).\n",
        "\n",
        "However, due to the algorithms simplicity, many machine learning practicioners overlook it in favor of more complicated (and popular) machine learning algorithms.  However, we will see that linear regression can be a very powerful too, especially with a few modifications."
      ],
      "metadata": {
        "id": "_AS5WtZGULio"
      }
    },
    {
      "cell_type": "markdown",
      "source": [
        "### The Linear Regression Algorithm\n",
        "\n",
        "Given a data set (**X**, **y**), the linear regression algorithm makes the simple assumption that the data set it is trying to model, y, can be approximated by multiplying the input/dependent data, X, by a set of weights, $\\theta$:\n",
        "\n",
        "<br>\n",
        "\n",
        "$$\\hat{y}_{Linear} = X\\theta,$$\n",
        "\n",
        "\n",
        "<br>\n",
        "\n",
        "where $\\hat{y}$ is the output of the linear regression algorithm ($\\hat{y}$ is typically used to denote a machine learning prediction, regardless of the algorithm).  X can either be a vector or a matrix depending on how many features are needed and $\\theta$ is either a scalar (if X is a vector) or a vector (if X is a matrix).\n",
        "\n",
        "The machine learning part of linear regression comes when the value of $\\theta$ is found such that the predicted data points ($\\hat{y}$) are as close as possible to the known data points (y)."
      ],
      "metadata": {
        "id": "x-xI_KMUV71Y"
      }
    },
    {
      "cell_type": "markdown",
      "source": [
        "### Linear Regression Loss Function\n",
        "\n",
        "In machine learning, a loss function measures the error in the algorithm's prediction from the true data. The loss function for the linear regressison algorithm is the mean-squared error function (y = y$_{True}$ and $\\hat{y}$ = $\\hat{y}_{Linear}$):\n",
        "\n",
        "$$J(\\theta) = \\frac{1}{n}\\sum_{i=0}^{n-1} (\\hat{y}_i - y_i)^2$$\n",
        "\n",
        "The goal of the linear regression algorithm is to find values of $\\theta$ which minimize the loss function (meaning that the predicted and true results will be as soon as possible).\n",
        "We can find the best values of $\\theta$ using a simple optimization:\n",
        "\n",
        "$$\\frac{\\partial J(\\theta}{\\partial \\theta} = 0.$$\n",
        "\n",
        "If we rewrite the loss function in terms of matrices and vectors:\n",
        "\n",
        "$$J(\\theta) = \\frac{1}{n}[(y-X\\theta)(y-X\\theta)],$$\n",
        "\n",
        "then we can solve the optimization probelm for $\\theta$, yielding:\n",
        "\n",
        "$$\\theta = (X^TX)^{-1}X^Ty.$$\n",
        "\n",
        "\n",
        "\n"
      ],
      "metadata": {
        "id": "J19Cid9PV_XT"
      }
    },
    {
      "cell_type": "markdown",
      "source": [
        "### Uses of Linear Regression\n",
        "\n",
        "Though linear regression is considered a simple machine learning model, we will see by the end of this notebook that some minor modifications can greatly extend the range of problems linear regression can be applied to."
      ],
      "metadata": {
        "id": "V5ILqA6HPwz4"
      }
    },
    {
      "cell_type": "markdown",
      "source": [
        "## The Machine Learning Workflow\n",
        "\n",
        "Though every machine learning problem will use a different algorithm and data set, the analysis shares the same five steps:\n",
        "\n",
        "1. Importing your data set and formatting it\n",
        "2. Splitting the data into a training set and a test set\n",
        "3. Training your machine learning model with the training set\n",
        "4. Evaluate the trained model's performance with the test set\n",
        "5. (Optional) Make improvements to your model to increase its performance\n",
        "\n",
        "For the remainder of this notebook we will see how these steps can be combined with linear regression to create a machine learning workflow that can be transferred to much more complicated problems."
      ],
      "metadata": {
        "id": "0qUfjH5UUQUs"
      }
    },
    {
      "cell_type": "markdown",
      "source": [
        "## Applying the Machine Learning Workflow to Linear Regression\n",
        "\n",
        "Before we begin we need to import the various libraries and packages that will be needed.  These include NumPy, Matplotlib, Pandas, and Scikit-Learn.  If you are using Google Colab to run these notebooks all of these package are already installed.  If you are using Jupyter notebooks on your own computer, check to make sure you have these packages installed before running this cell."
      ],
      "metadata": {
        "id": "Exc7Xken5W9r"
      }
    },
    {
      "cell_type": "code",
      "source": [
        "##############################\n",
        "##          IMPORTS         ##\n",
        "##############################\n",
        "# Needed for arrays and mathematical functions\n",
        "import numpy as np\n",
        "# For plotting\n",
        "import matplotlib.pyplot as plt\n",
        "# For importing and formatting data sets\n",
        "import pandas as pd\n",
        "# For the machine learning section, their functions will be\n",
        "# explained later in the notebook\n",
        "from sklearn.model_selection import train_test_split\n",
        "from sklearn.linear_model import LinearRegression"
      ],
      "metadata": {
        "id": "kFnV_ICaUogp"
      },
      "execution_count": null,
      "outputs": []
    },
    {
      "cell_type": "markdown",
      "source": [
        "Next, if you are running this notebook on Google Colab we need to set things up so that the data files on your Drive can be accessed.  If you are running this notebook using Jupyter notebooks, skip running this cell."
      ],
      "metadata": {
        "id": "Q47-1TBiZq1w"
      }
    },
    {
      "cell_type": "code",
      "source": [
        "# GOOGLE DRIVE SET UP\n",
        "from google.colab import drive\n",
        "# Mount my Google Drive\n",
        "drive.mount('/content/gdrive')"
      ],
      "metadata": {
        "colab": {
          "base_uri": "https://localhost:8080/"
        },
        "id": "zze9aOVIbZHT",
        "outputId": "1bdb6653-5ac1-4266-edea-849fa281d4ac"
      },
      "execution_count": null,
      "outputs": [
        {
          "output_type": "stream",
          "name": "stdout",
          "text": [
            "Mounted at /content/gdrive\n"
          ]
        }
      ]
    },
    {
      "cell_type": "code",
      "source": [
        "# Directory to retrieve data files from (###CHANGE THIS###)\n",
        "data_dir = '/content/gdrive/My Drive/Teaching/Comp_Methods/'"
      ],
      "metadata": {
        "id": "dK3AQU2Kdkb8"
      },
      "execution_count": null,
      "outputs": []
    },
    {
      "cell_type": "markdown",
      "source": [
        "Now, we need set a file path so the notebook knows where to save and read data from.  This will be the file path where the notebooks from this module are stored.\n",
        "\n",
        "### IMPORTANT!\n",
        "\n",
        "**PROBLEM 1:** Change the below line of code to reflect where you have this files for this module stored on your Google Drive or on your computer.  It is important that you start from the very top folder and work your way down the the folder where these files are stored."
      ],
      "metadata": {
        "id": "nK3LC4drLbgf"
      }
    },
    {
      "cell_type": "code",
      "source": [
        "# Directory to retrieve data files from (###CHANGE THIS###)\n",
        "data_dir = '/content/gdrive/My Drive/Comp_Methods/'"
      ],
      "metadata": {
        "id": "hc-lpRgIbMPM"
      },
      "execution_count": null,
      "outputs": []
    },
    {
      "cell_type": "markdown",
      "source": [
        "Let's generate data from a polynomial but with random noise added.  We do this to simulate a more realistic data set as in experiments there are often factors which influence the data and add noise that cannot be eliminated.\n",
        "\n",
        "The noise is added to the data set by adding a random integer between -10 and 10 to each y value of the data set.  Since the average value of the y data set before the noise is added is 94.8 and the maximum y value is 328.62, adding this noise does not change the shape of the data set drastically.  Later in the notebook you will explore how varying the amount of noise effects the machine learning model."
      ],
      "metadata": {
        "id": "cb8waaduxifq"
      }
    },
    {
      "cell_type": "code",
      "source": [
        "# Generate a range of x values and the corresponding y values\n",
        "# for a polynomial data set\n",
        "x = np.arange(-10,10,0.1)\n",
        "y = 3*x**2 + 4*x - 5\n",
        "\n",
        "# Add noise to the data set by adding a random integer to each\n",
        "# y value. The random integers will be between -10 and 10.\n",
        "noise = 10\n",
        "y = y + np.random.randint(-1*noise,noise,len(y))"
      ],
      "metadata": {
        "id": "25GxwZ9RUGBh"
      },
      "execution_count": null,
      "outputs": []
    },
    {
      "cell_type": "markdown",
      "source": [
        "Let's plot the data set to see how it looks.  Note we add labels to the x and y axes.  In the sciences it is important to always label the axes with the name of the data and units in applicable."
      ],
      "metadata": {
        "id": "NHCYxyOyyusD"
      }
    },
    {
      "cell_type": "code",
      "source": [
        "# Plot the data set and label the x and y axes\n",
        "plt.scatter(x,y, color=\"blue\", s=50)\n",
        "plt.xlabel(\"x\")\n",
        "plt.ylabel(\"y\")"
      ],
      "metadata": {
        "colab": {
          "base_uri": "https://localhost:8080/",
          "height": 296
        },
        "id": "CctEkm6fYRLE",
        "outputId": "b8e61035-a2ea-497c-d22a-a440d6df52a7"
      },
      "execution_count": null,
      "outputs": [
        {
          "output_type": "execute_result",
          "data": {
            "text/plain": [
              "Text(0, 0.5, 'y')"
            ]
          },
          "metadata": {},
          "execution_count": 6
        },
        {
          "output_type": "display_data",
          "data": {
            "text/plain": [
              "<Figure size 432x288 with 1 Axes>"
            ],
            "image/png": "[encoded data removed]"
          },
          "metadata": {
            "needs_background": "light"
          }
        }
      ]
    },
    {
      "cell_type": "markdown",
      "source": [
        "Finally, we format the data into columns of an array and save it as a comma separated file (.csv) with headings for each column."
      ],
      "metadata": {
        "id": "HbOeIwBqxAcj"
      }
    },
    {
      "cell_type": "code",
      "source": [
        "# Make an NumPy array where each row corresponds to one (x,y) point in the data set\n",
        "data_notebook_1 = np.array([x,y]).T\n",
        "\n",
        "# Save the data set as a .csv file, add header labels to the two columns\n",
        "pd.DataFrame(data_notebook_1).to_csv(data_dir+\"data_notebook_1.csv\", header=['x','y'],\\\n",
        "                                     index=False)"
      ],
      "metadata": {
        "id": "KdMDo4rxaB_O"
      },
      "execution_count": null,
      "outputs": []
    },
    {
      "cell_type": "markdown",
      "source": [
        "### Importing and Formatting Data with Pandas\n",
        "\n",
        "For many machine learning problems you will be working with a data set that has been gathered or generated previously and has been stored in a file.  A common way to import saved data into a Python program is using a library called Pandas.  When you import data from a file using Pandas it enters the program in a structure called a Pandas dataframe.  Dataframes have many nice feature for displaying and accessing data.\n",
        "\n",
        "Let's use the Pandas function `read_csv` to import the data set we created above as a data frame.  Then let's print the first few lines of the dataframe as a table to make sure everything has imported correctly."
      ],
      "metadata": {
        "id": "g2dg0sQOUSTn"
      }
    },
    {
      "cell_type": "code",
      "source": [
        "# Import the data set using Pandas.  The data set will now be formatted as a Pandas\n",
        "# dataframe\n",
        "data_set = pd.read_csv(data_dir+\"data_notebook_1.csv\",header=0)\n",
        "\n",
        "# Print the first few rows of the dataframe\n",
        "data_set.head()"
      ],
      "metadata": {
        "colab": {
          "base_uri": "https://localhost:8080/",
          "height": 268
        },
        "id": "RAbsKPOkb8FE",
        "outputId": "1b20f900-19e8-4719-fd8c-d179d846e26e"
      },
      "execution_count": null,
      "outputs": [
        {
          "output_type": "execute_result",
          "data": {
            "text/plain": [
              "      x       y\n",
              "0 -10.0  263.00\n",
              "1  -9.9  249.43\n",
              "2  -9.8  249.92\n",
              "3  -9.7  245.47\n",
              "4  -9.6  236.08"
            ],
            "text/html": [
              "\n",
              "  <div id=\"df-8a960427-43e5-4ee3-89d3-2babace52804\">\n",
              "    <div class=\"colab-df-container\">\n",
              "      <div>\n",
              "<style scoped>\n",
              "    .dataframe tbody tr th:only-of-type {\n",
              "        vertical-align: middle;\n",
              "    }\n",
              "\n",
              "    .dataframe tbody tr th {\n",
              "        vertical-align: top;\n",
              "    }\n",
              "\n",
              "    .dataframe thead th {\n",
              "        text-align: right;\n",
              "    }\n",
              "</style>\n",
              "<table border=\"1\" class=\"dataframe\">\n",
              "  <thead>\n",
              "    <tr style=\"text-align: right;\">\n",
              "      <th></th>\n",
              "      <th>x</th>\n",
              "      <th>y</th>\n",
              "    </tr>\n",
              "  </thead>\n",
              "  <tbody>\n",
              "    <tr>\n",
              "      <th>0</th>\n",
              "      <td>-10.0</td>\n",
              "      <td>263.00</td>\n",
              "    </tr>\n",
              "    <tr>\n",
              "      <th>1</th>\n",
              "      <td>-9.9</td>\n",
              "      <td>249.43</td>\n",
              "    </tr>\n",
              "    <tr>\n",
              "      <th>2</th>\n",
              "      <td>-9.8</td>\n",
              "      <td>249.92</td>\n",
              "    </tr>\n",
              "    <tr>\n",
              "      <th>3</th>\n",
              "      <td>-9.7</td>\n",
              "      <td>245.47</td>\n",
              "    </tr>\n",
              "    <tr>\n",
              "      <th>4</th>\n",
              "      <td>-9.6</td>\n",
              "      <td>236.08</td>\n",
              "    </tr>\n",
              "  </tbody>\n",
              "</table>\n",
              "</div>\n",
              "      <button class=\"colab-df-convert\" onclick=\"convertToInteractive('df-8a960427-43e5-4ee3-89d3-2babace52804')\"\n",
              "              title=\"Convert this dataframe to an interactive table.\"\n",
              "              style=\"display:none;\">\n",
              "        \n",
              "  <svg xmlns=\"http://www.w3.org/2000/svg\" height=\"24px\"viewBox=\"0 0 24 24\"\n",
              "       width=\"24px\">\n",
              "    <path d=\"M0 0h24v24H0V0z\" fill=\"none\"/>\n",
              "    <path d=\"M18.56 5.44l.94 2.06.94-2.06 2.06-.94-2.06-.94-.94-2.06-.94 2.06-2.06.94zm-11 1L8.5 8.5l.94-2.06 2.06-.94-2.06-.94L8.5 2.5l-.94 2.06-2.06.94zm10 10l.94 2.06.94-2.06 2.06-.94-2.06-.94-.94-2.06-.94 2.06-2.06.94z\"/><path d=\"M17.41 7.96l-1.37-1.37c-.4-.4-.92-.59-1.43-.59-.52 0-1.04.2-1.43.59L10.3 9.45l-7.72 7.72c-.78.78-.78 2.05 0 2.83L4 21.41c.39.39.9.59 1.41.59.51 0 1.02-.2 1.41-.59l7.78-7.78 2.81-2.81c.8-.78.8-2.07 0-2.86zM5.41 20L4 18.59l7.72-7.72 1.47 1.35L5.41 20z\"/>\n",
              "  </svg>\n",
              "      </button>\n",
              "      \n",
              "  <style>\n",
              "    .colab-df-container {\n",
              "      display:flex;\n",
              "      flex-wrap:wrap;\n",
              "      gap: 12px;\n",
              "    }\n",
              "\n",
              "    .colab-df-convert {\n",
              "      background-color: #E8F0FE;\n",
              "      border: none;\n",
              "      border-radius: 50%;\n",
              "      cursor: pointer;\n",
              "      display: none;\n",
              "      fill: #1967D2;\n",
              "      height: 32px;\n",
              "      padding: 0 0 0 0;\n",
              "      width: 32px;\n",
              "    }\n",
              "\n",
              "    .colab-df-convert:hover {\n",
              "      background-color: #E2EBFA;\n",
              "      box-shadow: 0px 1px 2px rgba(60, 64, 67, 0.3), 0px 1px 3px 1px rgba(60, 64, 67, 0.15);\n",
              "      fill: #174EA6;\n",
              "    }\n",
              "\n",
              "    [theme=dark] .colab-df-convert {\n",
              "      background-color: #3B4455;\n",
              "      fill: #D2E3FC;\n",
              "    }\n",
              "\n",
              "    [theme=dark] .colab-df-convert:hover {\n",
              "      background-color: #434B5C;\n",
              "      box-shadow: 0px 1px 3px 1px rgba(0, 0, 0, 0.15);\n",
              "      filter: drop-shadow(0px 1px 2px rgba(0, 0, 0, 0.3));\n",
              "      fill: #FFFFFF;\n",
              "    }\n",
              "  </style>\n",
              "\n",
              "      <script>\n",
              "        const buttonEl =\n",
              "          document.querySelector('#df-8a960427-43e5-4ee3-89d3-2babace52804 button.colab-df-convert');\n",
              "        buttonEl.style.display =\n",
              "          google.colab.kernel.accessAllowed ? 'block' : 'none';\n",
              "\n",
              "        async function convertToInteractive(key) {\n",
              "          const element = document.querySelector('#df-8a960427-43e5-4ee3-89d3-2babace52804');\n",
              "          const dataTable =\n",
              "            await google.colab.kernel.invokeFunction('convertToInteractive',\n",
              "                                                     [key], {});\n",
              "          if (!dataTable) return;\n",
              "\n",
              "          const docLinkHtml = 'Like what you see? Visit the ' +\n",
              "            '<a target=\"_blank\" href=https://colab.research.google.com/notebooks/data_table.ipynb>data table notebook</a>'\n",
              "            + ' to learn more about interactive tables.';\n",
              "          element.innerHTML = '';\n",
              "          dataTable['output_type'] = 'display_data';\n",
              "          await google.colab.output.renderOutput(dataTable, element);\n",
              "          const docLink = document.createElement('div');\n",
              "          docLink.innerHTML = docLinkHtml;\n",
              "          element.appendChild(docLink);\n",
              "        }\n",
              "      </script>\n",
              "    </div>\n",
              "  </div>\n",
              "  "
            ]
          },
          "metadata": {},
          "execution_count": 8
        }
      ]
    },
    {
      "cell_type": "markdown",
      "source": [
        "Using a Pandas dataframe makes it very easy to access the individual columns. A Pandas dataframe works like a Python dictionary, with the names of each column being the keys of the dictionary.  The entry for each key is the column of data the label corresponds to.  For example, we can access the data in the first column, x, using the following code."
      ],
      "metadata": {
        "id": "dbq9ipulTljv"
      }
    },
    {
      "cell_type": "code",
      "source": [
        "# Print the column of the dataframe that corresponds to the column label 'x'\n",
        "data_set['x']"
      ],
      "metadata": {
        "colab": {
          "base_uri": "https://localhost:8080/"
        },
        "id": "VhxUGsfLmO2c",
        "outputId": "5fb8dfc2-18da-44ce-942d-ec31a24a3751"
      },
      "execution_count": null,
      "outputs": [
        {
          "output_type": "execute_result",
          "data": {
            "text/plain": [
              "0     -10.0\n",
              "1      -9.9\n",
              "2      -9.8\n",
              "3      -9.7\n",
              "4      -9.6\n",
              "       ... \n",
              "195     9.5\n",
              "196     9.6\n",
              "197     9.7\n",
              "198     9.8\n",
              "199     9.9\n",
              "Name: x, Length: 200, dtype: float64"
            ]
          },
          "metadata": {},
          "execution_count": 9
        }
      ]
    },
    {
      "cell_type": "markdown",
      "source": [
        "It is also possible to extract individual data points from a column using array indexing.  The first data point in the x data set can be accessed using the below code."
      ],
      "metadata": {
        "id": "r7xJKhzRT5tR"
      }
    },
    {
      "cell_type": "code",
      "source": [
        "# Extract the first point in the x data set\n",
        "data_set['x'][0]"
      ],
      "metadata": {
        "colab": {
          "base_uri": "https://localhost:8080/"
        },
        "id": "3kPWQc5mmRu_",
        "outputId": "61369765-ca8a-4c66-b2ad-88d6f4c38319"
      },
      "execution_count": null,
      "outputs": [
        {
          "output_type": "execute_result",
          "data": {
            "text/plain": [
              "-10.0"
            ]
          },
          "metadata": {},
          "execution_count": 10
        }
      ]
    },
    {
      "cell_type": "markdown",
      "source": [
        "**PROBLEM 2:** In the below code cell, print the y column of the data set.  On the next line print the 10th element of the y data set (remember that array indexing starts from 0)."
      ],
      "metadata": {
        "id": "3osB8-eaUCqG"
      }
    },
    {
      "cell_type": "code",
      "source": [
        "\n",
        "print(data_set['y'])\n",
        "print(data_set['y'][9])"
      ],
      "metadata": {
        "id": "4w8lCbt7UC7Z"
      },
      "execution_count": null,
      "outputs": []
    },
    {
      "cell_type": "markdown",
      "source": [
        "Though Pandas dataframes are convinient for displaying data, many machine learning packges require the data set to be split into two separate NumPy arrays, one for the x component of the data set and one for the y component of the data set.  Luckily, there is a NumPy function called `asarray` which will convert the columns of the dataframe into NumPy arrays."
      ],
      "metadata": {
        "id": "9hZhj5NB1RZE"
      }
    },
    {
      "cell_type": "code",
      "source": [
        "# Convert the columns of the Pandas dataframe to NumPy arrays to more\n",
        "# easily manipulate the data\n",
        "X = np.asarray(data_set['x'])\n",
        "y = np.asarray(data_set['y'])"
      ],
      "metadata": {
        "id": "ydtnJBTmmYMT"
      },
      "execution_count": null,
      "outputs": []
    },
    {
      "cell_type": "markdown",
      "source": [
        "### Training and Test Data Sets with Scikit-Learn\n",
        "\n",
        "The most common way to perform a training/test split is to use the function form the Scikit-Learn library called `training_test_split`.  In general this function takes three arguments: the x component of the dat set, the y component of the data set, and a number between 0.0 and 1.0 called `test_size`.  This number dictates the fraction of the data set which is to be used as the test set.  In this case, 20% of the overall data set will be devoted to the test set.  The `training_test_split` randomly splits the data between the training and test sets.\n",
        "\n",
        "The function returns 4 data sets as NumPy arrays, in order: the x component of the training set, the x component of the test set, the y component of the training set, and the y component of the test set.\n",
        "\n",
        "Below we will use `train_test_split` to create our training and test data sets."
      ],
      "metadata": {
        "id": "nObNKokxUams"
      }
    },
    {
      "cell_type": "code",
      "source": [
        "# Using the Scikit-Learn package, split the data set into a training set and a\n",
        "# test set\n",
        "X_train, X_test, y_train, y_test = train_test_split(X, y, test_size=0.2)"
      ],
      "metadata": {
        "id": "dlTb_MQZm6Q2"
      },
      "execution_count": null,
      "outputs": []
    },
    {
      "cell_type": "markdown",
      "source": [
        "Let's graph the training and test data sets on the same graph to see if the training data set seems like it will be a good representation of the test data set."
      ],
      "metadata": {
        "id": "Y_-eUIee9BXc"
      }
    },
    {
      "cell_type": "code",
      "source": [
        "# Plot the training data and the test data on the same plot\n",
        "plt.scatter(X_train, y_train, color='blue', s=50, label=\"Training\")\n",
        "plt.scatter(X_test, y_test, color='red', marker='^',s=50, label=\"Test\")\n",
        "plt.legend()\n",
        "plt.xlabel('x')\n",
        "plt.ylabel('y')"
      ],
      "metadata": {
        "colab": {
          "base_uri": "https://localhost:8080/",
          "height": 296
        },
        "id": "PsXwRUA-nED1",
        "outputId": "fce7fb87-94f0-410e-aee6-0856ebec6466"
      },
      "execution_count": null,
      "outputs": [
        {
          "output_type": "execute_result",
          "data": {
            "text/plain": [
              "Text(0, 0.5, 'y')"
            ]
          },
          "metadata": {},
          "execution_count": 13
        },
        {
          "output_type": "display_data",
          "data": {
            "text/plain": [
              "<Figure size 432x288 with 1 Axes>"
            ],
            "image/png": "[encoded data removed]"
          },
          "metadata": {
            "needs_background": "light"
          }
        }
      ]
    },
    {
      "cell_type": "markdown",
      "source": [
        "**PROBLEM 3:** Does the test data set appear to be a good representation of the total data set?  Do you notice a difference if you run the `train_test_split` cell and the graphing cell again? Explain your answer in the text cell below."
      ],
      "metadata": {
        "id": "KxyRUDP6OpOH"
      }
    },
    {
      "cell_type": "markdown",
      "source": [
        "The test data seems to follow a similar pattern as the training data. However, I think that a more symmetric distribution of test data may be \"better,\" but I will need to think more about why that may or may not be the case."
      ],
      "metadata": {
        "id": "bZAEYR0vOpWz"
      }
    },
    {
      "cell_type": "markdown",
      "source": [
        "### Linear Regression with Scikit-Learn\n",
        "\n",
        "First, we must reshape the x components of the training and test data sets.  Machine learning algorithms that are provided by Scikit-Learn (and other machine learning libraries like Keras) require the data to have specific shapes.  For an x data set which only has one dimension (i.e. one x value for each y value), it will need to reshaped like this:"
      ],
      "metadata": {
        "id": "19il1YLXUfPi"
      }
    },
    {
      "cell_type": "code",
      "source": [
        "# Reshape the x components of the data sets to meet Scikit-Learn's\n",
        "# specifications\n",
        "X_train = X_train.reshape(-1,1)\n",
        "X_test = X_test.reshape(-1,1)"
      ],
      "metadata": {
        "id": "DH0i1hmvnTQX"
      },
      "execution_count": null,
      "outputs": []
    },
    {
      "cell_type": "markdown",
      "source": [
        "The next is to define the linear regression algorithm using Scikit-Learn's package and then train the linear regression algorithm with the training data.  Scikit-Learn makes it very easy, only requiring two lines of code.  Here we have set the argument `fit_intercept` to False when defining the linear regression algorithm.  This will be explained later in the notebook."
      ],
      "metadata": {
        "id": "qRqefZZ9-3bf"
      }
    },
    {
      "cell_type": "code",
      "source": [
        "# Define the linear regression algorithm and train it using the training data\n",
        "LiR = LinearRegression(fit_intercept=False)\n",
        "LiR.fit(X_train, y_train)"
      ],
      "metadata": {
        "colab": {
          "base_uri": "https://localhost:8080/"
        },
        "id": "EmybiVf6nLwB",
        "outputId": "a75a226b-e060-4676-af0e-3c4a6a5e16ce"
      },
      "execution_count": null,
      "outputs": [
        {
          "output_type": "execute_result",
          "data": {
            "text/plain": [
              "LinearRegression(fit_intercept=False)"
            ]
          },
          "metadata": {},
          "execution_count": 15
        }
      ]
    },
    {
      "cell_type": "markdown",
      "source": [
        "Finally, we will used the train linear regression model to predict the y values that correspond to the x values in the test data set.  We will store the results in the NumPy array `y_pred` to be compared to `y_test` in the next section."
      ],
      "metadata": {
        "id": "3cnlWXSe_cve"
      }
    },
    {
      "cell_type": "code",
      "source": [
        "# Used the trained algorithm to predict what y values correspond to the x component of\n",
        "# the test data set\n",
        "y_pred = LiR.predict(X_test)"
      ],
      "metadata": {
        "id": "wRvu2vXFnlCv"
      },
      "execution_count": null,
      "outputs": []
    },
    {
      "cell_type": "markdown",
      "source": [
        "### Evaluating Model Performance with NumPy and Matplotlib\n",
        "\n",
        "After the test data set has been evaluated using the trained model, the next step in the machine learning workflow is to evaluate its performance.  We will do this by comparing the known y data points (stored in `y_test`) to the y data points that have been predicted by the trained linear regression algorithm (stored in `y_pred`).\n",
        "\n",
        "One common measure of error used in machine learning workflows is called the mean-squared error (MSE), which can be defined in equation form as:\n",
        "\n",
        "$$MSE(y_{test}, \\hat{y}_{pred}) = \\frac{1}{N}\\sum_{i=1}^N (y_{test,i} - \\hat{y}_{pred,i})^2,$$\n",
        "\n",
        "where N is the number of data points, $y_{test}$ are the known data points (stored in `y_test`), and $\\hat{y}_{pred}$ are the predicted data points (stored in `y_pred`).  Conceptually we can think if the MSE as the average error of each predicted data point, squared.\n",
        "\n",
        "In Python, we can make use of the library NumPy to create a function that calculates the MSE between two NumPy arrays.  This is shown below in the next code cell.\n",
        "\n",
        "**PROBLEM 4:** Go through the below code cell and make sure you understand how it related to the MSE equation given above.  Create new code cells below it to examine it performance if needed."
      ],
      "metadata": {
        "id": "vt-ee_YCUib5"
      }
    },
    {
      "cell_type": "code",
      "source": [
        "##############################\n",
        "##            MSE           ##\n",
        "##############################\n",
        "def mse(A, B):\n",
        "    \"\"\"\n",
        "        Inputs:\n",
        "            A,B: NumPy arrays of the same length\n",
        "        Returns:\n",
        "            Unnamed: the mean-squared error between A and B\n",
        "        Calculates and returns the mean-squared error between the given Numpy arrays.\n",
        "        Note that A and B must be the same length.\n",
        "    \"\"\"\n",
        "    return np.average((A-B)**2)"
      ],
      "metadata": {
        "id": "hbWwqfcsnqKb"
      },
      "execution_count": null,
      "outputs": []
    },
    {
      "cell_type": "markdown",
      "source": [
        "Let's print the MSE between the known data points, `y_test`, and the predicted data points, `y_pred`."
      ],
      "metadata": {
        "id": "Pt-JTiyUAKL4"
      }
    },
    {
      "cell_type": "code",
      "source": [
        "print(\"The MSE between the test data set and the predicted data set is:\",\\\n",
        "      mse(y_pred, y_test))"
      ],
      "metadata": {
        "colab": {
          "base_uri": "https://localhost:8080/"
        },
        "id": "i33-xwZ7nv4X",
        "outputId": "764bbab1-fb72-4f40-c733-9fb027d6d5e1"
      },
      "execution_count": null,
      "outputs": [
        {
          "output_type": "stream",
          "name": "stdout",
          "text": [
            "The MSE between the test data set and the predicted data set is: 10462.633283747584\n"
          ]
        }
      ]
    },
    {
      "cell_type": "markdown",
      "source": [
        "The smaller the MSE is the closer the known data set matches the predicted data set.  However, if the values in the data set are quite large then even comparatively small deviations in values can results in a large MSE error.  Sometimes an easier to understand metric is the root mean-squared error (RMSE), which is simply defined as the square root of the MSE:\n",
        "\n",
        "$$RMSE(y_{test}, \\hat{y}_{pred}) = \\sqrt{\\frac{1}{N}\\sum_{i=1}^N (y_{test,i} - \\hat{y}_{pred,i})^2}.$$\n",
        "\n",
        "Conceptually we can think of this metric as the average error each of the predicted data points has.\n",
        "\n",
        "We can print the RMSE for our machine learning algorithm simply by taking the square root of the MSE."
      ],
      "metadata": {
        "id": "JbXOjYnhAiOt"
      }
    },
    {
      "cell_type": "code",
      "source": [
        "print(\"The RMSE between the test data set and the predicted data set is:\",\\\n",
        "      np.sqrt(mse(y_pred, y_test)))"
      ],
      "metadata": {
        "colab": {
          "base_uri": "https://localhost:8080/"
        },
        "id": "eg0-iO9rqMEr",
        "outputId": "189d7175-0a0c-45ef-a7e3-4fbabc2b1e5c"
      },
      "execution_count": null,
      "outputs": [
        {
          "output_type": "stream",
          "name": "stdout",
          "text": [
            "The RMSE between the test data set and the predicted data set is: 102.28701424788771\n"
          ]
        }
      ]
    },
    {
      "cell_type": "markdown",
      "source": [
        "This RMSE score is still quite large, especially if we compare it to the average value of the y data set."
      ],
      "metadata": {
        "id": "ihwMV1m5AjOR"
      }
    },
    {
      "cell_type": "code",
      "source": [
        "print(\"The average value of the y data set is:\", np.average(y))"
      ],
      "metadata": {
        "colab": {
          "base_uri": "https://localhost:8080/"
        },
        "id": "qRvOAwVtT_jz",
        "outputId": "2c446bc5-7ca8-4bce-f2a3-c6dd8dff5aaf"
      },
      "execution_count": null,
      "outputs": [
        {
          "output_type": "stream",
          "name": "stdout",
          "text": [
            "The average value of the y data set is: 94.13499999999917\n"
          ]
        }
      ]
    },
    {
      "cell_type": "markdown",
      "source": [
        "The exact error and average of the data set will change each time you run the notebook since the noise addition and train/test split are randomized, but you should see that the RMSE error is equivalent if not larger than the average value of the y data set.\n",
        "\n",
        "Finally, let's graph the known data set and the predicted data set on the same graph to see how they compare."
      ],
      "metadata": {
        "id": "2VXukjIUaAPg"
      }
    },
    {
      "cell_type": "code",
      "source": [
        "# Plot the test data set and the predicted data set on the same graph\n",
        "plt.scatter(X_test, y_test, color=\"blue\", s=50, label=\"Test Data\")\n",
        "plt.scatter(X_test, y_pred, color='red', marker='^', s=50, label=\"Predicted Data\")\n",
        "plt.legend()\n",
        "plt.xlabel(\"x\")\n",
        "plt.ylabel(\"y\")"
      ],
      "metadata": {
        "colab": {
          "base_uri": "https://localhost:8080/",
          "height": 296
        },
        "id": "C7dziyb0oz2o",
        "outputId": "dcf8470e-dfb3-4ebd-c308-127bc264b427"
      },
      "execution_count": null,
      "outputs": [
        {
          "output_type": "execute_result",
          "data": {
            "text/plain": [
              "Text(0, 0.5, 'y')"
            ]
          },
          "metadata": {},
          "execution_count": 21
        },
        {
          "output_type": "display_data",
          "data": {
            "text/plain": [
              "<Figure size 432x288 with 1 Axes>"
            ],
            "image/png": "[encoded data removed]"
          },
          "metadata": {
            "needs_background": "light"
          }
        }
      ]
    },
    {
      "cell_type": "markdown",
      "source": [
        "**PROBLEM 5:** Does the model appear to be a good match for the data set? Do the predictions from the linear regression algorithm make since? How could the model be improved?  Explain your answer in the text cell below."
      ],
      "metadata": {
        "id": "vBfdusRgZaU8"
      }
    },
    {
      "cell_type": "markdown",
      "source": [
        "The model is a very poor match. These predictions do not make sense because we used a linear model on nonlinear data. If we can change the model to interpret nonlinear data then we will be golden. However, we will need to have some idea of what order plynomial we would like to create."
      ],
      "metadata": {
        "id": "eL4g_jJGZaeB"
      }
    },
    {
      "cell_type": "markdown",
      "source": [
        "### Improve the Model's Performance: Design Matrices\n",
        "\n",
        "If we analyze a bit closer how the linear regression algorithm works, it should be unsurprising that it failed to fit a quadaratic data set.  If we take the form of the output for an unmodified linear regression algorithm:\n",
        "\n",
        "$$\\hat{y} =  X\\theta,$$\n",
        "\n",
        "and expand it, remembering that $\\hat{y}$ and X are vectors and $\\theta$ is a number, we get:\n",
        "\n",
        "$$y =  X\\theta \\longrightarrow \\begin{bmatrix}\n",
        "y_1 \\\\\n",
        "y_2 \\\\\n",
        "y_3 \\\\\n",
        ". \\\\\n",
        ". \\\\\n",
        ". \\\\\n",
        "y_N\n",
        "\\end{bmatrix} =  \\begin{bmatrix}\n",
        "x_1 \\\\\n",
        "x_2 \\\\\n",
        "x_3 \\\\\n",
        ". \\\\\n",
        ". \\\\\n",
        ". \\\\\n",
        "x_N \\\\\n",
        "\\end{bmatrix}\\theta \\longrightarrow \\begin{bmatrix}\n",
        "y_1 \\\\\n",
        "y_2 \\\\\n",
        "y_3 \\\\\n",
        ". \\\\\n",
        ". \\\\\n",
        ". \\\\\n",
        "y_N\n",
        "\\end{bmatrix} =  \\begin{bmatrix}\n",
        "\\theta x_1 \\\\\n",
        "\\theta x_2 \\\\\n",
        "\\theta x_3 \\\\\n",
        ". \\\\\n",
        ". \\\\\n",
        ". \\\\\n",
        "\\theta x_N \\\\\n",
        "\\end{bmatrix}.$$\n",
        "\n",
        "This means that without any modifications, the best model a linear regression algorithm can create is that the each output is just the corresponding input times a constant, $\\theta$ ($y_1 = \\theta x_1, y_2 = \\theta x_2, y_3 = \\theta x_3, ...$).  However there is an easy way to extend the amount of problems linear regression can be applied to by using some knowledge of the data set at hand and a structure called a _design matrix_.\n",
        "\n",
        "To create a design matrix we simply add more columns of X so that when we expand $\\hat{y} = \\theta X$, it better matches the form we expect our data to have.  Since we created our data set we know it is a quadratic and has the form $y = ax^2 + bx + c$, therefore let us consider the following way to restructure X.  Here we will make $\\theta$ a vector instead of a scalar and X will be a matrix instead of a vector:\n",
        "\n",
        "$$y =  X\\theta \\longrightarrow \\begin{bmatrix}\n",
        "y_1 \\\\\n",
        "y_2 \\\\\n",
        "y_3 \\\\\n",
        ". \\\\\n",
        ". \\\\\n",
        ". \\\\\n",
        "y_N\n",
        "\\end{bmatrix} =  \\begin{bmatrix}\n",
        "x_1^2 & x_1 & 1\\\\\n",
        "x_2^ 2 & x_2 & 1 \\\\\n",
        "x_3^2 & x_3 & 1 \\\\\n",
        ". \\\\\n",
        ". \\\\\n",
        ". \\\\\n",
        "x_N^2 & x_N & 1 \\\\\n",
        "\\end{bmatrix}\\begin{bmatrix}\n",
        "\\theta_1\n",
        "\\theta_2\n",
        "\\theta_3\n",
        "\\end{bmatrix} \\longrightarrow \\begin{bmatrix}\n",
        "y_1 \\\\\n",
        "y_2 \\\\\n",
        "y_3 \\\\\n",
        ". \\\\\n",
        ". \\\\\n",
        ". \\\\\n",
        "y_N\n",
        "\\end{bmatrix} = \\begin{bmatrix}\n",
        "\\theta_1 x_1^2 & \\theta_2 x_1 & \\theta_3\\\\\n",
        "\\theta_1 x_2^ 2 & \\theta_2 x_2 & \\theta_3 \\\\\n",
        "\\theta_1 x_3^2 & \\theta_2 x_3 & \\theta_3 \\\\\n",
        ". \\\\\n",
        ". \\\\\n",
        ". \\\\\n",
        "\\theta_1 x_N^2 & \\theta_2 x_N & \\theta_3 \\\\\n",
        "\\end{bmatrix}.$$\n",
        "\n",
        "\n",
        "Here each point in the y data set corresponds to a quaratic form of the x data set, which should match our data set.  If we did not have prior knowledge about what our data set was, we could always graph it and see if we could gleam any insights from its shape or use the [Vandermonde matrix](https://en.wikipedia.org/wiki/Vandermonde_matrix).\n",
        "\n",
        "Computationally we can construct the design matrix using the following code."
      ],
      "metadata": {
        "id": "7wHOGIMiYe9m"
      }
    },
    {
      "cell_type": "code",
      "source": [
        "# Create an array that is the X comoponent of the data set squared and an array that is\n",
        "# just ones\n",
        "X_squared = X**2\n",
        "ones = np.ones(len(X))\n",
        "\n",
        "# Create an array such that each row is [x**2, x, 1], for each point in the x data set\n",
        "X_design_matrix = np.array([X_squared, X, ones]).T\n",
        "\n",
        "# Print the first 10 rows of this new X data set\n",
        "print(X_design_matrix[:10])"
      ],
      "metadata": {
        "colab": {
          "base_uri": "https://localhost:8080/"
        },
        "id": "d7NxD3-xUZQX",
        "outputId": "b53e6a66-5890-488f-c89e-c4791168a835"
      },
      "execution_count": null,
      "outputs": [
        {
          "output_type": "stream",
          "name": "stdout",
          "text": [
            "[[100.   -10.     1.  ]\n",
            " [ 98.01  -9.9    1.  ]\n",
            " [ 96.04  -9.8    1.  ]\n",
            " [ 94.09  -9.7    1.  ]\n",
            " [ 92.16  -9.6    1.  ]\n",
            " [ 90.25  -9.5    1.  ]\n",
            " [ 88.36  -9.4    1.  ]\n",
            " [ 86.49  -9.3    1.  ]\n",
            " [ 84.64  -9.2    1.  ]\n",
            " [ 82.81  -9.1    1.  ]]\n"
          ]
        }
      ]
    },
    {
      "cell_type": "markdown",
      "source": [
        "**PROBLEM 6:** Make sure the above code makes sense to you before moving on.  Print out different lines if you need to."
      ],
      "metadata": {
        "id": "mVwLDOEHHMgv"
      }
    },
    {
      "cell_type": "markdown",
      "source": [
        "This makes sense: Get the square of the data, the data as is, and 1 (we might also want an x^3 if we expected the data to follow a cubic pattern). Then each array gets joined into a matrix after being transposed; so that each column contains all x^2, x, or a constant."
      ],
      "metadata": {
        "id": "02cfjiomHNNg"
      }
    },
    {
      "cell_type": "code",
      "source": [
        "# Using the Scikit-Learn package, split the data set into a training set and a\n",
        "# test set\n",
        "X_train, X_test, y_train, y_test = train_test_split(X_design_matrix, y, test_size=0.2)"
      ],
      "metadata": {
        "id": "Opvv2HWvYTmR"
      },
      "execution_count": null,
      "outputs": []
    },
    {
      "cell_type": "markdown",
      "source": [
        "Since this X data set is two dimensional (multiple x values per y value), there is no need to reshape the X components of the data sets before performing linear regression with Scikit-Learn.  Here we create our linear regression algorithm and train it with the training data.  We set `fit_intercept` to False because we have already included the intercept in our design matrix (the column of ones).  Let's also go ahead and predict the points that will be in our test set."
      ],
      "metadata": {
        "id": "jXoyVl_4coyB"
      }
    },
    {
      "cell_type": "code",
      "source": [
        "# Define the linear regression algorithm and train it using the training data\n",
        "# When using a design matrix, make sure the linear regression algorithm is not\n",
        "# automatically fitting the intercept of the graph\n",
        "LiR = LinearRegression(fit_intercept=False)\n",
        "LiR.fit(X_train, y_train)\n",
        "\n",
        "# Used the trained algorithm to predict what y values correspond to the x component of\n",
        "# the test data set\n",
        "y_pred = LiR.predict(X_test)"
      ],
      "metadata": {
        "id": "PhI_qdQrpa65"
      },
      "execution_count": null,
      "outputs": []
    },
    {
      "cell_type": "markdown",
      "source": [
        "Now we need to evaluate our model's performance using the test data set.  We will do this the same was as before, by calculating the MSE and RMSE and comparing those values to the average y values of the test data set.  We will also graph the known data points and the preducted data points on the same graph."
      ],
      "metadata": {
        "id": "w8NZR3NcazlM"
      }
    },
    {
      "cell_type": "code",
      "source": [
        "print(\"The MSE between the test data set and the predicted data set is:\",\\\n",
        "      mse(y_pred, y_test))"
      ],
      "metadata": {
        "colab": {
          "base_uri": "https://localhost:8080/"
        },
        "id": "7IVt_uhPpdb-",
        "outputId": "9b0b69bd-7933-49a3-f6cc-1a10522192d1"
      },
      "execution_count": null,
      "outputs": [
        {
          "output_type": "stream",
          "name": "stdout",
          "text": [
            "The MSE between the test data set and the predicted data set is: 33.89664294546273\n"
          ]
        }
      ]
    },
    {
      "cell_type": "code",
      "source": [
        "print(\"The RMSE between the test data set and the predicted data set is:\",\\\n",
        "      np.sqrt(mse(y_pred, y_test)))"
      ],
      "metadata": {
        "colab": {
          "base_uri": "https://localhost:8080/"
        },
        "id": "nqp9IAnzqPi6",
        "outputId": "0d6e7e2d-d7ea-40f3-92d7-2db9972da16b"
      },
      "execution_count": null,
      "outputs": [
        {
          "output_type": "stream",
          "name": "stdout",
          "text": [
            "The RMSE between the test data set and the predicted data set is: 5.822082354747546\n"
          ]
        }
      ]
    },
    {
      "cell_type": "code",
      "source": [
        "print(\"The average value of the y data set is:\", np.average(y))"
      ],
      "metadata": {
        "colab": {
          "base_uri": "https://localhost:8080/"
        },
        "id": "6Vx0mtC7T27C",
        "outputId": "b5df7099-15b3-4772-f049-d87c7f5a89b3"
      },
      "execution_count": null,
      "outputs": [
        {
          "output_type": "stream",
          "name": "stdout",
          "text": [
            "The average value of the y data set is: 94.13499999999917\n"
          ]
        }
      ]
    },
    {
      "cell_type": "code",
      "source": [
        "# Plot the test data set and the predicted data set on the same graph\n",
        "plt.scatter(X_test[:,1], y_test, color=\"blue\", s=50, label=\"Test Data\")\n",
        "plt.scatter(X_test[:,1], y_pred, color='red', marker='^', s=50, label=\"Predicted Data\")\n",
        "plt.legend()\n",
        "plt.xlabel(\"x\")\n",
        "plt.ylabel(\"y\")"
      ],
      "metadata": {
        "colab": {
          "base_uri": "https://localhost:8080/",
          "height": 105
        },
        "id": "QgPnYwZWpiou",
        "outputId": "23c82005-3a78-46ce-a354-eac4495645c4"
      },
      "execution_count": null,
      "outputs": [
        {
          "output_type": "execute_result",
          "data": {
            "text/plain": [
              "Text(0, 0.5, 'y')"
            ]
          },
          "metadata": {},
          "execution_count": 28
        },
        {
          "output_type": "display_data",
          "data": {
            "text/plain": [
              "<Figure size 432x288 with 1 Axes>"
            ],
            "image/png": "[encoded data removed]"
          },
          "metadata": {
            "needs_background": "light"
          }
        }
      ]
    },
    {
      "cell_type": "markdown",
      "source": [
        "**PROBLEM 7:** Does this new model seem to be a better fit for the data set?  Explain your answer using a combination of the error scores and the graph."
      ],
      "metadata": {
        "id": "1_UwMS6BajXk"
      }
    },
    {
      "cell_type": "markdown",
      "source": [
        "The rmse is less than the average value of the y data set, which is what we are looking for. Additionally, we see good agreement between the test data nad predictions. So, we will say that this is a good model."
      ],
      "metadata": {
        "id": "LFypxxFQajh5"
      }
    },
    {
      "cell_type": "markdown",
      "source": [
        "### Evaluating the Model Weights\n",
        "\n",
        "Another method of evaluating the performance of our model is to look at the weights, $\\theta$, that were calculated when the model was trained.  We can get this easily using the name of our linear regression algorith, `LiR`, and the attribute `coef_`."
      ],
      "metadata": {
        "id": "ahO13kMmbHHg"
      }
    },
    {
      "cell_type": "code",
      "source": [
        "# Print the coefficients of the linear regression algorithms\n",
        "LiR.coef_"
      ],
      "metadata": {
        "colab": {
          "base_uri": "https://localhost:8080/"
        },
        "id": "UlsxVB-NpmZR",
        "outputId": "753b9d09-6beb-4153-db34-4a99d875c587"
      },
      "execution_count": 57,
      "outputs": [
        {
          "output_type": "execute_result",
          "data": {
            "text/plain": [
              "array([  6.71728993,   4.11905976,   9.29388239, -31.11870172])"
            ]
          },
          "metadata": {},
          "execution_count": 57
        }
      ]
    },
    {
      "cell_type": "markdown",
      "source": [
        "Since we created the data set in this notebook, we know that before we added the noise the data set had the form $y = 3x^2 + 4x -5$.  Therefore, assuming the noise added was not too great, the weights found by the linear regression algorithm should be $a \\approx 3$, $b \\approx 4$, and $c \\approx -5$.\n",
        "\n",
        "We can print the weights of the linear regression algorithm below, along with the actual values to see how they compare."
      ],
      "metadata": {
        "id": "ja9JgvPrUTW-"
      }
    },
    {
      "cell_type": "code",
      "source": [
        "print(\"Predicted Value of a:\", LiR.coef_[0],\"  Actual Value of a: 3\")\n",
        "print(\"Predicted Value of b:\", LiR.coef_[1],\"  Actual Value of b: 4\")\n",
        "print(\"Predicted Value of c:\", LiR.coef_[2],\"  Actual Value of c: -5\")"
      ],
      "metadata": {
        "colab": {
          "base_uri": "https://localhost:8080/"
        },
        "id": "Zj8QTHOYqXTH",
        "outputId": "f1f7d28a-6b06-41ab-a932-cdd315750f42"
      },
      "execution_count": null,
      "outputs": [
        {
          "output_type": "stream",
          "name": "stdout",
          "text": [
            "Predicted Value of a: 3.030839835070573   Actual Value of a: 3\n",
            "Predicted Value of b: 3.993251981944426   Actual Value of b: 4\n",
            "Predicted Value of c: -6.439454131893592   Actual Value of c: -5\n"
          ]
        }
      ]
    },
    {
      "cell_type": "markdown",
      "source": [
        "**PROBLEM 8:** How do the predicted values of a, b, and c compare to the actual values?  Do you think this is a good measure of the accuracy of the model?"
      ],
      "metadata": {
        "id": "rdZ5gQyxU_U2"
      }
    },
    {
      "cell_type": "markdown",
      "source": [
        "All of these values are less than 10% different from the actual values; so that's good. However, you will not always now the form your data takes"
      ],
      "metadata": {
        "id": "A9C79K3oU_Y_"
      }
    },
    {
      "cell_type": "markdown",
      "source": [
        "**PROBLEM 9:** Rerun the above code cells (From the heading *Applying the Machine Learning Workflow to Linear Regression*) with various levels of noise. (Hint: you only need to change one number)  How does the level of noise effect the accuracy of the model?  Is it possible to have no error from the linear regression algorithm?  Type your observations in the text cell below."
      ],
      "metadata": {
        "id": "_gBgPg3hPK9v"
      }
    },
    {
      "cell_type": "markdown",
      "source": [
        "Reducing the noise gives us less noisy data and then the model is not trying to fit data points that do not rpresent the pattern we are after. You can never have 0 error, because you need to measure something before you can record it as data."
      ],
      "metadata": {
        "id": "1lgje0R7Pq6g"
      }
    },
    {
      "cell_type": "markdown",
      "source": [
        "### Practice What You Have Learned\n",
        "\n",
        "a. In the code cell below, import the file `practice_what_you_have_learned_1.csv` as a Pandas dataframe.  Print the first few lines of the dataframe and the keys.  Hint: see [this page](https://pandas.pydata.org/docs/reference/api/pandas.DataFrame.html) for documentation on Pandas dataframes."
      ],
      "metadata": {
        "id": "cOpgNaxUPCxP"
      }
    },
    {
      "cell_type": "code",
      "source": [
        "prac = pd.read_csv(data_dir+\"practice_what_you_have_learned_1.csv\")\n",
        "print(prac.head())\n",
        "print(prac.keys())"
      ],
      "metadata": {
        "id": "yYc0C55mPCHc",
        "colab": {
          "base_uri": "https://localhost:8080/"
        },
        "outputId": "14790be6-2a5b-426c-f8b1-9b5942fda3e9"
      },
      "execution_count": 124,
      "outputs": [
        {
          "output_type": "stream",
          "name": "stdout",
          "text": [
            "      x         y\n",
            "0 -10.0 -6355.000\n",
            "1  -9.9 -6222.353\n",
            "2  -9.8 -5700.784\n",
            "3  -9.7 -5807.251\n",
            "4  -9.6 -5542.712\n",
            "Index(['x', 'y'], dtype='object')\n"
          ]
        }
      ]
    },
    {
      "cell_type": "markdown",
      "source": [
        "b. Export the columns of the dataframe as NumPy arrays, using descriptive variable names based on the names of the columns."
      ],
      "metadata": {
        "id": "XYKd8yGLWXN0"
      }
    },
    {
      "cell_type": "code",
      "source": [
        "x = np.asarray(prac['x'])\n",
        "y2 = np.asarray(prac['y'])\n",
        "print(x,y)"
      ],
      "metadata": {
        "id": "nYYF4FJaWXcH",
        "collapsed": true,
        "colab": {
          "base_uri": "https://localhost:8080/"
        },
        "outputId": "3820181c-3e8a-43fc-92b0-efe42950bd18"
      },
      "execution_count": 125,
      "outputs": [
        {
          "output_type": "stream",
          "name": "stdout",
          "text": [
            "[-1.00000000e+01 -9.90000000e+00 -9.80000000e+00 -9.70000000e+00\n",
            " -9.60000000e+00 -9.50000000e+00 -9.40000000e+00 -9.30000000e+00\n",
            " -9.20000000e+00 -9.10000000e+00 -9.00000000e+00 -8.90000000e+00\n",
            " -8.80000000e+00 -8.70000000e+00 -8.60000000e+00 -8.50000000e+00\n",
            " -8.40000000e+00 -8.30000000e+00 -8.20000000e+00 -8.10000000e+00\n",
            " -8.00000000e+00 -7.90000000e+00 -7.80000000e+00 -7.70000000e+00\n",
            " -7.60000000e+00 -7.50000000e+00 -7.40000000e+00 -7.30000000e+00\n",
            " -7.20000000e+00 -7.10000000e+00 -7.00000000e+00 -6.90000000e+00\n",
            " -6.80000000e+00 -6.70000000e+00 -6.60000000e+00 -6.50000000e+00\n",
            " -6.40000000e+00 -6.30000000e+00 -6.20000000e+00 -6.10000000e+00\n",
            " -6.00000000e+00 -5.90000000e+00 -5.80000000e+00 -5.70000000e+00\n",
            " -5.60000000e+00 -5.50000000e+00 -5.40000000e+00 -5.30000000e+00\n",
            " -5.20000000e+00 -5.10000000e+00 -5.00000000e+00 -4.90000000e+00\n",
            " -4.80000000e+00 -4.70000000e+00 -4.60000000e+00 -4.50000000e+00\n",
            " -4.40000000e+00 -4.30000000e+00 -4.20000000e+00 -4.10000000e+00\n",
            " -4.00000000e+00 -3.90000000e+00 -3.80000000e+00 -3.70000000e+00\n",
            " -3.60000000e+00 -3.50000000e+00 -3.40000000e+00 -3.30000000e+00\n",
            " -3.20000000e+00 -3.10000000e+00 -3.00000000e+00 -2.90000000e+00\n",
            " -2.80000000e+00 -2.70000000e+00 -2.60000000e+00 -2.50000000e+00\n",
            " -2.40000000e+00 -2.30000000e+00 -2.20000000e+00 -2.10000000e+00\n",
            " -2.00000000e+00 -1.90000000e+00 -1.80000000e+00 -1.70000000e+00\n",
            " -1.60000000e+00 -1.50000000e+00 -1.40000000e+00 -1.30000000e+00\n",
            " -1.20000000e+00 -1.10000000e+00 -1.00000000e+00 -9.00000000e-01\n",
            " -8.00000000e-01 -7.00000000e-01 -6.00000000e-01 -5.00000000e-01\n",
            " -4.00000000e-01 -3.00000000e-01 -2.00000000e-01 -1.00000000e-01\n",
            " -3.55271368e-14  1.00000000e-01  2.00000000e-01  3.00000000e-01\n",
            "  4.00000000e-01  5.00000000e-01  6.00000000e-01  7.00000000e-01\n",
            "  8.00000000e-01  9.00000000e-01  1.00000000e+00  1.10000000e+00\n",
            "  1.20000000e+00  1.30000000e+00  1.40000000e+00  1.50000000e+00\n",
            "  1.60000000e+00  1.70000000e+00  1.80000000e+00  1.90000000e+00\n",
            "  2.00000000e+00  2.10000000e+00  2.20000000e+00  2.30000000e+00\n",
            "  2.40000000e+00  2.50000000e+00  2.60000000e+00  2.70000000e+00\n",
            "  2.80000000e+00  2.90000000e+00  3.00000000e+00  3.10000000e+00\n",
            "  3.20000000e+00  3.30000000e+00  3.40000000e+00  3.50000000e+00\n",
            "  3.60000000e+00  3.70000000e+00  3.80000000e+00  3.90000000e+00\n",
            "  4.00000000e+00  4.10000000e+00  4.20000000e+00  4.30000000e+00\n",
            "  4.40000000e+00  4.50000000e+00  4.60000000e+00  4.70000000e+00\n",
            "  4.80000000e+00  4.90000000e+00  5.00000000e+00  5.10000000e+00\n",
            "  5.20000000e+00  5.30000000e+00  5.40000000e+00  5.50000000e+00\n",
            "  5.60000000e+00  5.70000000e+00  5.80000000e+00  5.90000000e+00\n",
            "  6.00000000e+00  6.10000000e+00  6.20000000e+00  6.30000000e+00\n",
            "  6.40000000e+00  6.50000000e+00  6.60000000e+00  6.70000000e+00\n",
            "  6.80000000e+00  6.90000000e+00  7.00000000e+00  7.10000000e+00\n",
            "  7.20000000e+00  7.30000000e+00  7.40000000e+00  7.50000000e+00\n",
            "  7.60000000e+00  7.70000000e+00  7.80000000e+00  7.90000000e+00\n",
            "  8.00000000e+00  8.10000000e+00  8.20000000e+00  8.30000000e+00\n",
            "  8.40000000e+00  8.50000000e+00  8.60000000e+00  8.70000000e+00\n",
            "  8.80000000e+00  8.90000000e+00  9.00000000e+00  9.10000000e+00\n",
            "  9.20000000e+00  9.30000000e+00  9.40000000e+00  9.50000000e+00\n",
            "  9.60000000e+00  9.70000000e+00  9.80000000e+00  9.90000000e+00] 0     -6355.000\n",
            "1     -6222.353\n",
            "2     -5700.784\n",
            "3     -5807.251\n",
            "4     -5542.712\n",
            "         ...   \n",
            "195    6095.125\n",
            "196    6396.992\n",
            "197    6298.971\n",
            "198    7018.104\n",
            "199    6658.433\n",
            "Name: y, Length: 200, dtype: float64\n"
          ]
        }
      ]
    },
    {
      "cell_type": "markdown",
      "source": [
        "c. Graph the data set (assuming the first column of the data set is the x-axis and the second column is the y-axis).  Add x and y labels to the axes based on the column names given in the data set."
      ],
      "metadata": {
        "id": "QWnZQPqkWlSk"
      }
    },
    {
      "cell_type": "code",
      "source": [
        "plt.scatter(x,y)\n",
        "plt.xlabel('x')\n",
        "plt.ylabel('y')"
      ],
      "metadata": {
        "id": "x7wspuXAWlbV",
        "colab": {
          "base_uri": "https://localhost:8080/",
          "height": 466
        },
        "outputId": "49b64bce-503f-43a1-87e4-b6ec0ed9584e"
      },
      "execution_count": 126,
      "outputs": [
        {
          "output_type": "execute_result",
          "data": {
            "text/plain": [
              "Text(0, 0.5, 'y')"
            ]
          },
          "metadata": {},
          "execution_count": 126
        },
        {
          "output_type": "display_data",
          "data": {
            "text/plain": [
              "<Figure size 640x480 with 1 Axes>"
            ],
            "image/png": "[encoded data removed]"
          },
          "metadata": {}
        }
      ]
    },
    {
      "cell_type": "markdown",
      "source": [
        "d. Based on the graph of the data, what equation could be a good model for the data?  Write your answer in the cell below.  Hint: the answer will be a polynomial."
      ],
      "metadata": {
        "id": "7WDc1AKRWz7R"
      }
    },
    {
      "cell_type": "markdown",
      "source": [],
      "metadata": {
        "id": "3XqSv4HtWz-q"
      }
    },
    {
      "cell_type": "markdown",
      "source": [
        "e. Create a design matrix using your answer to part d."
      ],
      "metadata": {
        "id": "E7cotyuEW_Hv"
      }
    },
    {
      "cell_type": "code",
      "source": [
        "x_cu = x**3\n",
        "x_sq = x**2\n",
        "ones = np.ones(len(x))\n",
        "X_des_mat = np.array([x_cu, x_sq, x, ones]).T\n",
        "print(X_des_mat[100,2])\n",
        "print(X_des_mat[:,2])\n",
        "print(min(x))"
      ],
      "metadata": {
        "id": "yMNjv6E8W_NV",
        "collapsed": true,
        "colab": {
          "base_uri": "https://localhost:8080/"
        },
        "outputId": "99061edc-5553-4aa4-ba0c-dc59035c8085"
      },
      "execution_count": 127,
      "outputs": [
        {
          "output_type": "stream",
          "name": "stdout",
          "text": [
            "-3.5527136788005016e-14\n",
            "[-1.00000000e+01 -9.90000000e+00 -9.80000000e+00 -9.70000000e+00\n",
            " -9.60000000e+00 -9.50000000e+00 -9.40000000e+00 -9.30000000e+00\n",
            " -9.20000000e+00 -9.10000000e+00 -9.00000000e+00 -8.90000000e+00\n",
            " -8.80000000e+00 -8.70000000e+00 -8.60000000e+00 -8.50000000e+00\n",
            " -8.40000000e+00 -8.30000000e+00 -8.20000000e+00 -8.10000000e+00\n",
            " -8.00000000e+00 -7.90000000e+00 -7.80000000e+00 -7.70000000e+00\n",
            " -7.60000000e+00 -7.50000000e+00 -7.40000000e+00 -7.30000000e+00\n",
            " -7.20000000e+00 -7.10000000e+00 -7.00000000e+00 -6.90000000e+00\n",
            " -6.80000000e+00 -6.70000000e+00 -6.60000000e+00 -6.50000000e+00\n",
            " -6.40000000e+00 -6.30000000e+00 -6.20000000e+00 -6.10000000e+00\n",
            " -6.00000000e+00 -5.90000000e+00 -5.80000000e+00 -5.70000000e+00\n",
            " -5.60000000e+00 -5.50000000e+00 -5.40000000e+00 -5.30000000e+00\n",
            " -5.20000000e+00 -5.10000000e+00 -5.00000000e+00 -4.90000000e+00\n",
            " -4.80000000e+00 -4.70000000e+00 -4.60000000e+00 -4.50000000e+00\n",
            " -4.40000000e+00 -4.30000000e+00 -4.20000000e+00 -4.10000000e+00\n",
            " -4.00000000e+00 -3.90000000e+00 -3.80000000e+00 -3.70000000e+00\n",
            " -3.60000000e+00 -3.50000000e+00 -3.40000000e+00 -3.30000000e+00\n",
            " -3.20000000e+00 -3.10000000e+00 -3.00000000e+00 -2.90000000e+00\n",
            " -2.80000000e+00 -2.70000000e+00 -2.60000000e+00 -2.50000000e+00\n",
            " -2.40000000e+00 -2.30000000e+00 -2.20000000e+00 -2.10000000e+00\n",
            " -2.00000000e+00 -1.90000000e+00 -1.80000000e+00 -1.70000000e+00\n",
            " -1.60000000e+00 -1.50000000e+00 -1.40000000e+00 -1.30000000e+00\n",
            " -1.20000000e+00 -1.10000000e+00 -1.00000000e+00 -9.00000000e-01\n",
            " -8.00000000e-01 -7.00000000e-01 -6.00000000e-01 -5.00000000e-01\n",
            " -4.00000000e-01 -3.00000000e-01 -2.00000000e-01 -1.00000000e-01\n",
            " -3.55271368e-14  1.00000000e-01  2.00000000e-01  3.00000000e-01\n",
            "  4.00000000e-01  5.00000000e-01  6.00000000e-01  7.00000000e-01\n",
            "  8.00000000e-01  9.00000000e-01  1.00000000e+00  1.10000000e+00\n",
            "  1.20000000e+00  1.30000000e+00  1.40000000e+00  1.50000000e+00\n",
            "  1.60000000e+00  1.70000000e+00  1.80000000e+00  1.90000000e+00\n",
            "  2.00000000e+00  2.10000000e+00  2.20000000e+00  2.30000000e+00\n",
            "  2.40000000e+00  2.50000000e+00  2.60000000e+00  2.70000000e+00\n",
            "  2.80000000e+00  2.90000000e+00  3.00000000e+00  3.10000000e+00\n",
            "  3.20000000e+00  3.30000000e+00  3.40000000e+00  3.50000000e+00\n",
            "  3.60000000e+00  3.70000000e+00  3.80000000e+00  3.90000000e+00\n",
            "  4.00000000e+00  4.10000000e+00  4.20000000e+00  4.30000000e+00\n",
            "  4.40000000e+00  4.50000000e+00  4.60000000e+00  4.70000000e+00\n",
            "  4.80000000e+00  4.90000000e+00  5.00000000e+00  5.10000000e+00\n",
            "  5.20000000e+00  5.30000000e+00  5.40000000e+00  5.50000000e+00\n",
            "  5.60000000e+00  5.70000000e+00  5.80000000e+00  5.90000000e+00\n",
            "  6.00000000e+00  6.10000000e+00  6.20000000e+00  6.30000000e+00\n",
            "  6.40000000e+00  6.50000000e+00  6.60000000e+00  6.70000000e+00\n",
            "  6.80000000e+00  6.90000000e+00  7.00000000e+00  7.10000000e+00\n",
            "  7.20000000e+00  7.30000000e+00  7.40000000e+00  7.50000000e+00\n",
            "  7.60000000e+00  7.70000000e+00  7.80000000e+00  7.90000000e+00\n",
            "  8.00000000e+00  8.10000000e+00  8.20000000e+00  8.30000000e+00\n",
            "  8.40000000e+00  8.50000000e+00  8.60000000e+00  8.70000000e+00\n",
            "  8.80000000e+00  8.90000000e+00  9.00000000e+00  9.10000000e+00\n",
            "  9.20000000e+00  9.30000000e+00  9.40000000e+00  9.50000000e+00\n",
            "  9.60000000e+00  9.70000000e+00  9.80000000e+00  9.90000000e+00]\n",
            "-10.0\n"
          ]
        }
      ]
    },
    {
      "cell_type": "markdown",
      "source": [
        "f. Create a training data set and a test data set using the Scikit-Learn function.  Set aside 25% of the data set for the test data set."
      ],
      "metadata": {
        "id": "6fGZlRXMXH9P"
      }
    },
    {
      "cell_type": "code",
      "source": [
        "X_trn, X_tst, y_trn, y_tst = train_test_split(X_des_mat, y2, test_size=0.20)\n",
        "\n",
        "plt.scatter(X_trn[:,2], y_trn, color = 'blue', s= 25, label = 'training data')\n",
        "plt.scatter(X_tst[:,2], y_tst, color = 'red', s = 25, label = 'test data')\n",
        "\n",
        "plt.xlabel('x')\n",
        "plt.ylabel('y')\n",
        "plt.legend()"
      ],
      "metadata": {
        "id": "E0LtoXJPXIDY",
        "colab": {
          "base_uri": "https://localhost:8080/",
          "height": 466
        },
        "outputId": "aa46504a-df6a-412d-f7cd-33730acd47f8"
      },
      "execution_count": 150,
      "outputs": [
        {
          "output_type": "execute_result",
          "data": {
            "text/plain": [
              "<matplotlib.legend.Legend at 0x7d2f44ad3510>"
            ]
          },
          "metadata": {},
          "execution_count": 150
        },
        {
          "output_type": "display_data",
          "data": {
            "text/plain": [
              "<Figure size 640x480 with 1 Axes>"
            ],
            "image/png": "[encoded data removed]"
          },
          "metadata": {}
        }
      ]
    },
    {
      "cell_type": "markdown",
      "source": [
        "g. Create a linear regression model, fit it using the training data, and then create a variable `y_pred` which holds the predictions for the test data set."
      ],
      "metadata": {
        "id": "k87Q98oOXSk9"
      }
    },
    {
      "cell_type": "code",
      "source": [
        "LiR = LinearRegression(fit_intercept=True)\n",
        "LiR.fit(X_trn, y_trn)\n",
        "\n",
        "# Used the trained algorithm to predict what y values correspond to the x component of\n",
        "# the test data set\n",
        "y_pred = LiR.predict(X_tst)\n",
        "print(y_pred, y_tst)"
      ],
      "metadata": {
        "id": "b-TXARLTXSuk",
        "colab": {
          "base_uri": "https://localhost:8080/"
        },
        "outputId": "fce053bc-fd56-493e-98bc-1977dc63ea45"
      },
      "execution_count": 151,
      "outputs": [
        {
          "output_type": "stream",
          "name": "stdout",
          "text": [
            "[  -15.78798442  2118.87799208  4889.56001061 -4535.02041232\n",
            " -2036.57322203 -2615.62317416   -83.82235644 -1410.66754517\n",
            "  5392.25142149   139.30173742    94.18866227  3440.73022578\n",
            "  -158.70028056   -52.77683662  3840.13618691   795.27456215\n",
            "  3570.62866799  6898.57206887 -1215.2907938    -37.17561421\n",
            " -4689.28202648  1458.32283975   -67.45443486 -6431.72543905\n",
            "   -32.11198771  4269.27202945  1687.03657343  -743.55121526\n",
            "   -43.92767729   -38.35558464  5928.260581    6696.62744487\n",
            "    -7.82472382  2213.20284191   237.23642471  -450.20244284\n",
            "    81.18640228  -583.43819912  3069.9777859    -30.56081893] [  232.643  1924.912  5400.664 -4727.243 -2170.664 -2205.328  -268.464\n",
            " -1834.     5893.937   141.272    59.429  3417.824  -280.192   432.823\n",
            "  4249.227  1190.021  3378.213  6658.433 -1538.291  -452.296 -4969.\n",
            "  1469.944  -270.125 -6355.      153.616  4759.968  2159.407  -942.584\n",
            "  -435.341   457.071  6218.328  7018.104  -449.143  2663.801   659.677\n",
            "  -226.      575.296  -612.648  3117.625  -379.351]\n"
          ]
        }
      ]
    },
    {
      "cell_type": "markdown",
      "source": [
        "h. Using any combination of graphs and errors, determine the accuracy of your model using the test data set."
      ],
      "metadata": {
        "id": "0R74DmxkXgOx"
      }
    },
    {
      "cell_type": "code",
      "source": [
        "def rmse(A, B):\n",
        "    \"\"\"\n",
        "        Inputs:\n",
        "            A,B: NumPy arrays of the same length\n",
        "        Returns:\n",
        "            Unnamed: the mean-squared error between A and B\n",
        "        Calculates and returns the mean-squared error\n",
        "    \"\"\"\n",
        "    return np.sqrt(np.average((A-B)**2))\n",
        "a = LiR.coef_[0]\n",
        "b = LiR.coef_[1]\n",
        "c = LiR.coef_[2]\n",
        "d = LiR.coef_[3]\n",
        "print(\"Our coeffeficieints are: a=\", a, 'b=', b,'c=', c, 'd=', d)\n",
        "\n",
        "\n",
        "print(\"The RMSE between the test data set and the predicted data set is:\",\\\n",
        "      rmse(y_pred, y_tst))\n",
        "print(\"The average value of the y data set is:\", np.average(y2))\n",
        "\n",
        "plt.scatter(X_tst[:,2], y_tst, color=\"blue\", s=50, label=\"Test Data\")\n",
        "plt.scatter(X_tst[:,2], y_pred, color='red', marker='^', s=50, label=\"Predicted Data\")\n",
        "\n",
        "plt.legend()\n",
        "plt.xlabel('x')\n",
        "plt.ylabel('y')\n",
        "\n"
      ],
      "metadata": {
        "id": "ORJ8DRzOXgXZ",
        "colab": {
          "base_uri": "https://localhost:8080/",
          "height": 518
        },
        "outputId": "dcd962fe-d6be-4d1d-9f97-6b5b7f619cb7"
      },
      "execution_count": 152,
      "outputs": [
        {
          "output_type": "stream",
          "name": "stdout",
          "text": [
            "Our coeffeficieints are: a= 6.644198529544645 b= 3.711983540169449 c= 12.393298321750356 d= 0.0\n",
            "The RMSE between the test data set and the predicted data set is: 325.5997829327111\n",
            "The average value of the y data set is: 67.98499999997468\n"
          ]
        },
        {
          "output_type": "execute_result",
          "data": {
            "text/plain": [
              "Text(0, 0.5, 'y')"
            ]
          },
          "metadata": {},
          "execution_count": 152
        },
        {
          "output_type": "display_data",
          "data": {
            "text/plain": [
              "<Figure size 640x480 with 1 Axes>"
            ],
            "image/png": "[encoded data removed]"
          },
          "metadata": {}
        }
      ]
    },
    {
      "cell_type": "markdown",
      "source": [
        "i. Do you think your machine learning model fits the data set well?  If it does not, what improvements do you think you can make to increase it performance?"
      ],
      "metadata": {
        "id": "PZeLxj30XouX"
      }
    },
    {
      "cell_type": "markdown",
      "source": [
        "It fits pretty poorly. I am assuming that this is due to noise; so, some filtering algorithm that reduces the weight of the noisy looking data. I have no clue how I would do this; but, a quick idea would be to find average y values and assign smaller coeficients to data ponts that are more than x stdevs from the mean and you could play with how much weight to assign for a given level of variance. I also imagined the data being enclosed by two related cubic polynomials and the data we see could be from any cubic that fits within the bounds of the limiting cubic functions. Having multiple independent variables could also be a contributing factor here."
      ],
      "metadata": {
        "id": "VNotjjaSXoyE"
      }
    },
    {
      "cell_type": "markdown",
      "source": [
        "## Bonus Problem: Creating a Linear Regression Algorithm from Scratch\n",
        "\n",
        "Using the equation for the optimized parameters of $\\theta$, presented earlier in this notebook, create a function which performs linear regression on a given training data set and returns a prediction for a test set.  Combine your code into a function called `linear_regression`, which takes three parameters `X_train`, `y_train`, and `X_test`, and returns the predicted y data set, `y_pred`.  Use the outline of the function given below.  Compare its performance using the \"Practice What You Have Learned\" data set and compare your function's performance to the\n",
        "\n",
        "\n",
        "```python\n",
        "def linear_regression (X_train, y_train, X_test):\n",
        "    # Your code goes here\n",
        "    return y_pred\n",
        "```"
      ],
      "metadata": {
        "id": "2pbSEadWO9vd"
      }
    },
    {
      "cell_type": "code",
      "source": [],
      "metadata": {
        "id": "rj_gbnizV6ZX"
      },
      "execution_count": null,
      "outputs": []
    }
  ]
}